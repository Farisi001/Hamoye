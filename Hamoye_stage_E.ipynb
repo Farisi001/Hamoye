{
  "nbformat": 4,
  "nbformat_minor": 0,
  "metadata": {
    "colab": {
      "name": "Hamoye_stage_E.ipynb",
      "provenance": [],
      "authorship_tag": "ABX9TyP8u578eGqmJagioWOunwNT",
      "include_colab_link": true
    },
    "kernelspec": {
      "name": "python3",
      "display_name": "Python 3"
    }
  },
  "cells": [
    {
      "cell_type": "markdown",
      "metadata": {
        "id": "view-in-github",
        "colab_type": "text"
      },
      "source": [
        "<a href=\"https://colab.research.google.com/github/Farisi001/Hamoye/blob/master/Hamoye_stage_E.ipynb\" target=\"_parent\"><img src=\"https://colab.research.google.com/assets/colab-badge.svg\" alt=\"Open In Colab\"/></a>"
      ]
    },
    {
      "cell_type": "code",
      "metadata": {
        "id": "6QFiwwDVyKko"
      },
      "source": [
        "import numpy as np\n",
        "import pandas as pd\n",
        "import matplotlib.pyplot as plt\n",
        "%matplotlib inline\n",
        "import seaborn as sns\n",
        "from fbprophet import Prophet"
      ],
      "execution_count": 86,
      "outputs": []
    },
    {
      "cell_type": "code",
      "metadata": {
        "id": "XzoScwb1yXQ-"
      },
      "source": [
        "df = pd.read_csv('household_power_consumption.txt', sep = ';', header=0, low_memory=False, infer_datetime_format=True, parse_dates={'datetime':[0,1]}, index_col=['datetime'],na_values = '?', dtype = float)"
      ],
      "execution_count": 63,
      "outputs": []
    },
    {
      "cell_type": "code",
      "metadata": {
        "id": "szRgR1VEybnG",
        "outputId": "0bc7976e-41d1-405c-bf57-acf0c949d9b4",
        "colab": {
          "base_uri": "https://localhost:8080/",
          "height": 235
        }
      },
      "source": [
        "df.head()"
      ],
      "execution_count": 64,
      "outputs": [
        {
          "output_type": "execute_result",
          "data": {
            "text/html": [
              "<div>\n",
              "<style scoped>\n",
              "    .dataframe tbody tr th:only-of-type {\n",
              "        vertical-align: middle;\n",
              "    }\n",
              "\n",
              "    .dataframe tbody tr th {\n",
              "        vertical-align: top;\n",
              "    }\n",
              "\n",
              "    .dataframe thead th {\n",
              "        text-align: right;\n",
              "    }\n",
              "</style>\n",
              "<table border=\"1\" class=\"dataframe\">\n",
              "  <thead>\n",
              "    <tr style=\"text-align: right;\">\n",
              "      <th></th>\n",
              "      <th>Global_active_power</th>\n",
              "      <th>Global_reactive_power</th>\n",
              "      <th>Voltage</th>\n",
              "      <th>Global_intensity</th>\n",
              "      <th>Sub_metering_1</th>\n",
              "      <th>Sub_metering_2</th>\n",
              "      <th>Sub_metering_3</th>\n",
              "    </tr>\n",
              "    <tr>\n",
              "      <th>datetime</th>\n",
              "      <th></th>\n",
              "      <th></th>\n",
              "      <th></th>\n",
              "      <th></th>\n",
              "      <th></th>\n",
              "      <th></th>\n",
              "      <th></th>\n",
              "    </tr>\n",
              "  </thead>\n",
              "  <tbody>\n",
              "    <tr>\n",
              "      <th>2006-12-16 17:24:00</th>\n",
              "      <td>4.216</td>\n",
              "      <td>0.418</td>\n",
              "      <td>234.84</td>\n",
              "      <td>18.4</td>\n",
              "      <td>0.0</td>\n",
              "      <td>1.0</td>\n",
              "      <td>17.0</td>\n",
              "    </tr>\n",
              "    <tr>\n",
              "      <th>2006-12-16 17:25:00</th>\n",
              "      <td>5.360</td>\n",
              "      <td>0.436</td>\n",
              "      <td>233.63</td>\n",
              "      <td>23.0</td>\n",
              "      <td>0.0</td>\n",
              "      <td>1.0</td>\n",
              "      <td>16.0</td>\n",
              "    </tr>\n",
              "    <tr>\n",
              "      <th>2006-12-16 17:26:00</th>\n",
              "      <td>5.374</td>\n",
              "      <td>0.498</td>\n",
              "      <td>233.29</td>\n",
              "      <td>23.0</td>\n",
              "      <td>0.0</td>\n",
              "      <td>2.0</td>\n",
              "      <td>17.0</td>\n",
              "    </tr>\n",
              "    <tr>\n",
              "      <th>2006-12-16 17:27:00</th>\n",
              "      <td>5.388</td>\n",
              "      <td>0.502</td>\n",
              "      <td>233.74</td>\n",
              "      <td>23.0</td>\n",
              "      <td>0.0</td>\n",
              "      <td>1.0</td>\n",
              "      <td>17.0</td>\n",
              "    </tr>\n",
              "    <tr>\n",
              "      <th>2006-12-16 17:28:00</th>\n",
              "      <td>3.666</td>\n",
              "      <td>0.528</td>\n",
              "      <td>235.68</td>\n",
              "      <td>15.8</td>\n",
              "      <td>0.0</td>\n",
              "      <td>1.0</td>\n",
              "      <td>17.0</td>\n",
              "    </tr>\n",
              "  </tbody>\n",
              "</table>\n",
              "</div>"
            ],
            "text/plain": [
              "                     Global_active_power  ...  Sub_metering_3\n",
              "datetime                                  ...                \n",
              "2006-12-16 17:24:00                4.216  ...            17.0\n",
              "2006-12-16 17:25:00                5.360  ...            16.0\n",
              "2006-12-16 17:26:00                5.374  ...            17.0\n",
              "2006-12-16 17:27:00                5.388  ...            17.0\n",
              "2006-12-16 17:28:00                3.666  ...            17.0\n",
              "\n",
              "[5 rows x 7 columns]"
            ]
          },
          "metadata": {
            "tags": []
          },
          "execution_count": 64
        }
      ]
    },
    {
      "cell_type": "code",
      "metadata": {
        "id": "BKZ5RMtG3bDN",
        "outputId": "a4894cea-a41a-43ce-c4cb-7df7ea32a458",
        "colab": {
          "base_uri": "https://localhost:8080/",
          "height": 266
        }
      },
      "source": [
        "df.corr()"
      ],
      "execution_count": 65,
      "outputs": [
        {
          "output_type": "execute_result",
          "data": {
            "text/html": [
              "<div>\n",
              "<style scoped>\n",
              "    .dataframe tbody tr th:only-of-type {\n",
              "        vertical-align: middle;\n",
              "    }\n",
              "\n",
              "    .dataframe tbody tr th {\n",
              "        vertical-align: top;\n",
              "    }\n",
              "\n",
              "    .dataframe thead th {\n",
              "        text-align: right;\n",
              "    }\n",
              "</style>\n",
              "<table border=\"1\" class=\"dataframe\">\n",
              "  <thead>\n",
              "    <tr style=\"text-align: right;\">\n",
              "      <th></th>\n",
              "      <th>Global_active_power</th>\n",
              "      <th>Global_reactive_power</th>\n",
              "      <th>Voltage</th>\n",
              "      <th>Global_intensity</th>\n",
              "      <th>Sub_metering_1</th>\n",
              "      <th>Sub_metering_2</th>\n",
              "      <th>Sub_metering_3</th>\n",
              "    </tr>\n",
              "  </thead>\n",
              "  <tbody>\n",
              "    <tr>\n",
              "      <th>Global_active_power</th>\n",
              "      <td>1.000000</td>\n",
              "      <td>0.247017</td>\n",
              "      <td>-0.399762</td>\n",
              "      <td>0.998889</td>\n",
              "      <td>0.484401</td>\n",
              "      <td>0.434569</td>\n",
              "      <td>0.638555</td>\n",
              "    </tr>\n",
              "    <tr>\n",
              "      <th>Global_reactive_power</th>\n",
              "      <td>0.247017</td>\n",
              "      <td>1.000000</td>\n",
              "      <td>-0.112246</td>\n",
              "      <td>0.266120</td>\n",
              "      <td>0.123111</td>\n",
              "      <td>0.139231</td>\n",
              "      <td>0.089617</td>\n",
              "    </tr>\n",
              "    <tr>\n",
              "      <th>Voltage</th>\n",
              "      <td>-0.399762</td>\n",
              "      <td>-0.112246</td>\n",
              "      <td>1.000000</td>\n",
              "      <td>-0.411363</td>\n",
              "      <td>-0.195976</td>\n",
              "      <td>-0.167405</td>\n",
              "      <td>-0.268172</td>\n",
              "    </tr>\n",
              "    <tr>\n",
              "      <th>Global_intensity</th>\n",
              "      <td>0.998889</td>\n",
              "      <td>0.266120</td>\n",
              "      <td>-0.411363</td>\n",
              "      <td>1.000000</td>\n",
              "      <td>0.489298</td>\n",
              "      <td>0.440347</td>\n",
              "      <td>0.626543</td>\n",
              "    </tr>\n",
              "    <tr>\n",
              "      <th>Sub_metering_1</th>\n",
              "      <td>0.484401</td>\n",
              "      <td>0.123111</td>\n",
              "      <td>-0.195976</td>\n",
              "      <td>0.489298</td>\n",
              "      <td>1.000000</td>\n",
              "      <td>0.054721</td>\n",
              "      <td>0.102571</td>\n",
              "    </tr>\n",
              "    <tr>\n",
              "      <th>Sub_metering_2</th>\n",
              "      <td>0.434569</td>\n",
              "      <td>0.139231</td>\n",
              "      <td>-0.167405</td>\n",
              "      <td>0.440347</td>\n",
              "      <td>0.054721</td>\n",
              "      <td>1.000000</td>\n",
              "      <td>0.080872</td>\n",
              "    </tr>\n",
              "    <tr>\n",
              "      <th>Sub_metering_3</th>\n",
              "      <td>0.638555</td>\n",
              "      <td>0.089617</td>\n",
              "      <td>-0.268172</td>\n",
              "      <td>0.626543</td>\n",
              "      <td>0.102571</td>\n",
              "      <td>0.080872</td>\n",
              "      <td>1.000000</td>\n",
              "    </tr>\n",
              "  </tbody>\n",
              "</table>\n",
              "</div>"
            ],
            "text/plain": [
              "                       Global_active_power  ...  Sub_metering_3\n",
              "Global_active_power               1.000000  ...        0.638555\n",
              "Global_reactive_power             0.247017  ...        0.089617\n",
              "Voltage                          -0.399762  ...       -0.268172\n",
              "Global_intensity                  0.998889  ...        0.626543\n",
              "Sub_metering_1                    0.484401  ...        0.102571\n",
              "Sub_metering_2                    0.434569  ...        0.080872\n",
              "Sub_metering_3                    0.638555  ...        1.000000\n",
              "\n",
              "[7 rows x 7 columns]"
            ]
          },
          "metadata": {
            "tags": []
          },
          "execution_count": 65
        }
      ]
    },
    {
      "cell_type": "code",
      "metadata": {
        "id": "1-z1qEY_0Zfj",
        "outputId": "2b7522a2-08c3-444f-c903-ddf156e9285f",
        "colab": {
          "base_uri": "https://localhost:8080/",
          "height": 153
        }
      },
      "source": [
        "df.isnull().sum()"
      ],
      "execution_count": 66,
      "outputs": [
        {
          "output_type": "execute_result",
          "data": {
            "text/plain": [
              "Global_active_power      25979\n",
              "Global_reactive_power    25979\n",
              "Voltage                  25979\n",
              "Global_intensity         25979\n",
              "Sub_metering_1           25979\n",
              "Sub_metering_2           25979\n",
              "Sub_metering_3           25979\n",
              "dtype: int64"
            ]
          },
          "metadata": {
            "tags": []
          },
          "execution_count": 66
        }
      ]
    },
    {
      "cell_type": "code",
      "metadata": {
        "id": "HRb_PW813m4v",
        "outputId": "e6108602-72b0-485d-fbd2-8db2e40fc6a5",
        "colab": {
          "base_uri": "https://localhost:8080/",
          "height": 153
        }
      },
      "source": [
        "df.dtypes"
      ],
      "execution_count": 67,
      "outputs": [
        {
          "output_type": "execute_result",
          "data": {
            "text/plain": [
              "Global_active_power      float64\n",
              "Global_reactive_power    float64\n",
              "Voltage                  float64\n",
              "Global_intensity         float64\n",
              "Sub_metering_1           float64\n",
              "Sub_metering_2           float64\n",
              "Sub_metering_3           float64\n",
              "dtype: object"
            ]
          },
          "metadata": {
            "tags": []
          },
          "execution_count": 67
        }
      ]
    },
    {
      "cell_type": "code",
      "metadata": {
        "id": "xeEIA2eVCN6w"
      },
      "source": [
        "# add a column for for the remainder of sub metering\n",
        "values = df.values.astype('float32')\n",
        "df['sub_metering_4'] = (values[:,0] * 1000 / 60) - (values[:,4] + values[:,5] + values[:,6])"
      ],
      "execution_count": 43,
      "outputs": []
    },
    {
      "cell_type": "code",
      "metadata": {
        "id": "M72XfTdl37Xt",
        "outputId": "2fe45cc5-32b7-49d4-9ad9-bc048c0d3433",
        "colab": {
          "base_uri": "https://localhost:8080/",
          "height": 498
        }
      },
      "source": [
        "plt.figure(figsize=(10,6))\n",
        "sns.heatmap(df.corr())"
      ],
      "execution_count": 68,
      "outputs": [
        {
          "output_type": "execute_result",
          "data": {
            "text/plain": [
              "<matplotlib.axes._subplots.AxesSubplot at 0x7f3803764a90>"
            ]
          },
          "metadata": {
            "tags": []
          },
          "execution_count": 68
        },
        {
          "output_type": "display_data",
          "data": {
            "image/png": "[encoded data removed]",
            "text/plain": [
              "<Figure size 720x432 with 2 Axes>"
            ]
          },
          "metadata": {
            "tags": [],
            "needs_background": "light"
          }
        }
      ]
    },
    {
      "cell_type": "code",
      "metadata": {
        "id": "_S0dPvIGCPS4"
      },
      "source": [
        "df.fillna(df.mean(), inplace=True)"
      ],
      "execution_count": 69,
      "outputs": []
    },
    {
      "cell_type": "code",
      "metadata": {
        "id": "DVBk5j0z6wh2",
        "outputId": "d5f1d17a-0341-4ab9-dc58-61ba945bd6bd",
        "colab": {
          "base_uri": "https://localhost:8080/",
          "height": 85
        }
      },
      "source": [
        "df.columns"
      ],
      "execution_count": 70,
      "outputs": [
        {
          "output_type": "execute_result",
          "data": {
            "text/plain": [
              "Index(['Global_active_power', 'Global_reactive_power', 'Voltage',\n",
              "       'Global_intensity', 'Sub_metering_1', 'Sub_metering_2',\n",
              "       'Sub_metering_3'],\n",
              "      dtype='object')"
            ]
          },
          "metadata": {
            "tags": []
          },
          "execution_count": 70
        }
      ]
    },
    {
      "cell_type": "code",
      "metadata": {
        "id": "VPmVUVJ4634F",
        "outputId": "3ee2d4eb-d890-4818-82b1-7053eb98882f",
        "colab": {
          "base_uri": "https://localhost:8080/",
          "height": 221
        }
      },
      "source": [
        "df.index"
      ],
      "execution_count": 71,
      "outputs": [
        {
          "output_type": "execute_result",
          "data": {
            "text/plain": [
              "DatetimeIndex(['2006-12-16 17:24:00', '2006-12-16 17:25:00',\n",
              "               '2006-12-16 17:26:00', '2006-12-16 17:27:00',\n",
              "               '2006-12-16 17:28:00', '2006-12-16 17:29:00',\n",
              "               '2006-12-16 17:30:00', '2006-12-16 17:31:00',\n",
              "               '2006-12-16 17:32:00', '2006-12-16 17:33:00',\n",
              "               ...\n",
              "               '2010-11-26 20:53:00', '2010-11-26 20:54:00',\n",
              "               '2010-11-26 20:55:00', '2010-11-26 20:56:00',\n",
              "               '2010-11-26 20:57:00', '2010-11-26 20:58:00',\n",
              "               '2010-11-26 20:59:00', '2010-11-26 21:00:00',\n",
              "               '2010-11-26 21:01:00', '2010-11-26 21:02:00'],\n",
              "              dtype='datetime64[ns]', name='datetime', length=2075259, freq=None)"
            ]
          },
          "metadata": {
            "tags": []
          },
          "execution_count": 71
        }
      ]
    },
    {
      "cell_type": "code",
      "metadata": {
        "id": "5nWNm6VzEAEY",
        "outputId": "ec5dcfb4-c000-4553-e8ee-fe5f1c5ee8ac",
        "colab": {
          "base_uri": "https://localhost:8080/",
          "height": 272
        }
      },
      "source": [
        "#Downsample to daily data points\n",
        "df_daily = df.resample('D').mean()\n",
        "print(df_daily)"
      ],
      "execution_count": 78,
      "outputs": [
        {
          "output_type": "stream",
          "text": [
            "            Global_active_power  ...  Sub_metering_3\n",
            "datetime                         ...                \n",
            "2006-12-16             3.053475  ...       12.439394\n",
            "2006-12-17             2.354486  ...        9.264583\n",
            "2006-12-18             1.530435  ...        9.734722\n",
            "2006-12-19             1.157079  ...        4.303472\n",
            "2006-12-20             1.545658  ...        9.765972\n",
            "...                         ...  ...             ...\n",
            "2010-11-22             1.417733  ...        7.038889\n",
            "2010-11-23             1.095511  ...        5.285417\n",
            "2010-11-24             1.247394  ...        8.488889\n",
            "2010-11-25             0.993864  ...        3.522222\n",
            "2010-11-26             1.178230  ...        7.908947\n",
            "\n",
            "[1442 rows x 7 columns]\n"
          ],
          "name": "stdout"
        }
      ]
    },
    {
      "cell_type": "code",
      "metadata": {
        "id": "bsFdu3H2FatY",
        "outputId": "540098ec-8ff5-4457-f265-eaae74979506",
        "colab": {
          "base_uri": "https://localhost:8080/",
          "height": 901
        }
      },
      "source": [
        "# downsampling to monthly data points\n",
        "df_monthly = df.resample('M').mean()\n",
        "print(df_monthly)"
      ],
      "execution_count": 79,
      "outputs": [
        {
          "output_type": "stream",
          "text": [
            "            Global_active_power  ...  Sub_metering_3\n",
            "datetime                         ...                \n",
            "2006-12-31             1.901148  ...        7.409385\n",
            "2007-01-31             1.546014  ...        7.383309\n",
            "2007-02-28             1.401068  ...        6.703545\n",
            "2007-03-31             1.318622  ...        6.504647\n",
            "2007-04-30             0.908462  ...        4.943236\n",
            "2007-05-31             0.985862  ...        5.139964\n",
            "2007-06-30             0.827078  ...        4.377979\n",
            "2007-07-31             0.668612  ...        3.487031\n",
            "2007-08-31             0.764348  ...        5.053407\n",
            "2007-09-30             0.969324  ...        5.240461\n",
            "2007-10-31             1.103910  ...        5.736848\n",
            "2007-11-30             1.294464  ...        6.937568\n",
            "2007-12-31             1.626462  ...        8.118939\n",
            "2008-01-31             1.459912  ...        6.993312\n",
            "2008-02-29             1.181378  ...        6.128769\n",
            "2008-03-31             1.245333  ...        6.265154\n",
            "2008-04-30             1.115972  ...        6.844398\n",
            "2008-05-31             1.024284  ...        6.510594\n",
            "2008-06-30             0.994099  ...        6.715497\n",
            "2008-07-31             0.794794  ...        5.090522\n",
            "2008-08-31             0.276525  ...        1.784900\n",
            "2008-09-30             0.987680  ...        6.580602\n",
            "2008-10-31             1.136725  ...        6.186486\n",
            "2008-11-30             1.387004  ...        6.497063\n",
            "2008-12-31             1.274897  ...        6.895263\n",
            "2009-01-31             1.410195  ...        7.383792\n",
            "2009-02-28             1.247320  ...        7.355638\n",
            "2009-03-31             1.226729  ...        7.363573\n",
            "2009-04-30             1.140688  ...        7.126225\n",
            "2009-05-31             1.012863  ...        6.968500\n",
            "2009-06-30             0.859948  ...        6.511902\n",
            "2009-07-31             0.618163  ...        4.210615\n",
            "2009-08-31             0.673141  ...        4.431417\n",
            "2009-09-30             0.986848  ...        6.864962\n",
            "2009-10-31             1.144485  ...        7.336726\n",
            "2009-11-30             1.274739  ...        7.767025\n",
            "2009-12-31             1.364408  ...        8.600401\n",
            "2010-01-31             1.406754  ...        9.322007\n",
            "2010-02-28             1.375841  ...       10.211481\n",
            "2010-03-31             1.128329  ...        7.559213\n",
            "2010-04-30             1.027297  ...        7.780034\n",
            "2010-05-31             1.095284  ...        8.168267\n",
            "2010-06-30             0.969621  ...        7.105253\n",
            "2010-07-31             0.721076  ...        4.321650\n",
            "2010-08-31             0.671850  ...        4.633910\n",
            "2010-09-30             0.972829  ...        6.751942\n",
            "2010-10-31             1.163397  ...        7.071583\n",
            "2010-11-30             1.196854  ...        6.631592\n",
            "\n",
            "[48 rows x 7 columns]\n"
          ],
          "name": "stdout"
        }
      ]
    },
    {
      "cell_type": "code",
      "metadata": {
        "id": "zvZhjPwoGEF-",
        "outputId": "47874f95-8c9a-478d-87e2-eca0f30a2448",
        "colab": {
          "base_uri": "https://localhost:8080/",
          "height": 312
        }
      },
      "source": [
        "plt.plot(df_daily.index, df_daily.Global_active_power)\n",
        "plt.grid()\n",
        "plt.xlabel('Date')\n",
        "plt.ylabel('global_active_power ')\n",
        "plt.title('Downsampled Data')"
      ],
      "execution_count": 83,
      "outputs": [
        {
          "output_type": "execute_result",
          "data": {
            "text/plain": [
              "Text(0.5, 1.0, 'Downsampled Data')"
            ]
          },
          "metadata": {
            "tags": []
          },
          "execution_count": 83
        },
        {
          "output_type": "display_data",
          "data": {
            "image/png": "[encoded data removed]",
            "text/plain": [
              "<Figure size 432x288 with 1 Axes>"
            ]
          },
          "metadata": {
            "tags": [],
            "needs_background": "light"
          }
        }
      ]
    },
    {
      "cell_type": "code",
      "metadata": {
        "id": "NS1cRvvEHSq5",
        "outputId": "6cb7527c-b783-440e-ded8-1bbdd3e42d68",
        "colab": {
          "base_uri": "https://localhost:8080/",
          "height": 204
        }
      },
      "source": [
        "df_daily_2 = df_daily.reset_index()\n",
        "df_daily_2.head()"
      ],
      "execution_count": 84,
      "outputs": [
        {
          "output_type": "execute_result",
          "data": {
            "text/html": [
              "<div>\n",
              "<style scoped>\n",
              "    .dataframe tbody tr th:only-of-type {\n",
              "        vertical-align: middle;\n",
              "    }\n",
              "\n",
              "    .dataframe tbody tr th {\n",
              "        vertical-align: top;\n",
              "    }\n",
              "\n",
              "    .dataframe thead th {\n",
              "        text-align: right;\n",
              "    }\n",
              "</style>\n",
              "<table border=\"1\" class=\"dataframe\">\n",
              "  <thead>\n",
              "    <tr style=\"text-align: right;\">\n",
              "      <th></th>\n",
              "      <th>datetime</th>\n",
              "      <th>Global_active_power</th>\n",
              "      <th>Global_reactive_power</th>\n",
              "      <th>Voltage</th>\n",
              "      <th>Global_intensity</th>\n",
              "      <th>Sub_metering_1</th>\n",
              "      <th>Sub_metering_2</th>\n",
              "      <th>Sub_metering_3</th>\n",
              "    </tr>\n",
              "  </thead>\n",
              "  <tbody>\n",
              "    <tr>\n",
              "      <th>0</th>\n",
              "      <td>2006-12-16</td>\n",
              "      <td>3.053475</td>\n",
              "      <td>0.088187</td>\n",
              "      <td>236.243763</td>\n",
              "      <td>13.082828</td>\n",
              "      <td>0.000000</td>\n",
              "      <td>1.378788</td>\n",
              "      <td>12.439394</td>\n",
              "    </tr>\n",
              "    <tr>\n",
              "      <th>1</th>\n",
              "      <td>2006-12-17</td>\n",
              "      <td>2.354486</td>\n",
              "      <td>0.156949</td>\n",
              "      <td>240.087028</td>\n",
              "      <td>9.999028</td>\n",
              "      <td>1.411806</td>\n",
              "      <td>2.907639</td>\n",
              "      <td>9.264583</td>\n",
              "    </tr>\n",
              "    <tr>\n",
              "      <th>2</th>\n",
              "      <td>2006-12-18</td>\n",
              "      <td>1.530435</td>\n",
              "      <td>0.112356</td>\n",
              "      <td>241.231694</td>\n",
              "      <td>6.421667</td>\n",
              "      <td>0.738194</td>\n",
              "      <td>1.820139</td>\n",
              "      <td>9.734722</td>\n",
              "    </tr>\n",
              "    <tr>\n",
              "      <th>3</th>\n",
              "      <td>2006-12-19</td>\n",
              "      <td>1.157079</td>\n",
              "      <td>0.104821</td>\n",
              "      <td>241.999313</td>\n",
              "      <td>4.926389</td>\n",
              "      <td>0.582639</td>\n",
              "      <td>5.279167</td>\n",
              "      <td>4.303472</td>\n",
              "    </tr>\n",
              "    <tr>\n",
              "      <th>4</th>\n",
              "      <td>2006-12-20</td>\n",
              "      <td>1.545658</td>\n",
              "      <td>0.111804</td>\n",
              "      <td>242.308063</td>\n",
              "      <td>6.467361</td>\n",
              "      <td>0.000000</td>\n",
              "      <td>1.838889</td>\n",
              "      <td>9.765972</td>\n",
              "    </tr>\n",
              "  </tbody>\n",
              "</table>\n",
              "</div>"
            ],
            "text/plain": [
              "    datetime  Global_active_power  ...  Sub_metering_2  Sub_metering_3\n",
              "0 2006-12-16             3.053475  ...        1.378788       12.439394\n",
              "1 2006-12-17             2.354486  ...        2.907639        9.264583\n",
              "2 2006-12-18             1.530435  ...        1.820139        9.734722\n",
              "3 2006-12-19             1.157079  ...        5.279167        4.303472\n",
              "4 2006-12-20             1.545658  ...        1.838889        9.765972\n",
              "\n",
              "[5 rows x 8 columns]"
            ]
          },
          "metadata": {
            "tags": []
          },
          "execution_count": 84
        }
      ]
    },
    {
      "cell_type": "code",
      "metadata": {
        "id": "Uk7If2zXIWZ5"
      },
      "source": [
        "df_daily_2 = df_daily_2[['datetime','Global_active_power']]\n",
        "\n",
        "new_daily_df = df_daily_2.rename(columns={\"datetime\": \"ds\", \"Global_active_power\": \"y\"})"
      ],
      "execution_count": 85,
      "outputs": []
    },
    {
      "cell_type": "code",
      "metadata": {
        "id": "U11kqIlQIpFQ",
        "outputId": "b1a6f9fe-76fd-41f4-caa7-5613b5112c1b",
        "colab": {
          "base_uri": "https://localhost:8080/",
          "height": 51
        }
      },
      "source": [
        "model = Prophet()\n",
        "model.fit(new_daily_df)"
      ],
      "execution_count": 110,
      "outputs": [
        {
          "output_type": "stream",
          "text": [
            "INFO:fbprophet:Disabling daily seasonality. Run prophet with daily_seasonality=True to override this.\n"
          ],
          "name": "stderr"
        },
        {
          "output_type": "execute_result",
          "data": {
            "text/plain": [
              "<fbprophet.forecaster.Prophet at 0x7f38099e4550>"
            ]
          },
          "metadata": {
            "tags": []
          },
          "execution_count": 110
        }
      ]
    },
    {
      "cell_type": "code",
      "metadata": {
        "id": "EwldaQzkI4em"
      },
      "source": [
        "test_set = new_daily_df[:365]\n",
        "train_set = new_daily_df[-365:]\n",
        "x = len(new_daily_df)"
      ],
      "execution_count": 104,
      "outputs": []
    },
    {
      "cell_type": "code",
      "metadata": {
        "id": "SIXLfeo-Mi2R",
        "outputId": "011574ec-ec43-476a-cafb-57ed76aced79",
        "colab": {
          "base_uri": "https://localhost:8080/",
          "height": 789
        }
      },
      "source": [
        "#predict for the next 30 days\n",
        "future = model.make_future_dataframe(periods=20, freq='D') \n",
        "forecast = model.predict(future) \n",
        "forecast.head(15)"
      ],
      "execution_count": 112,
      "outputs": [
        {
          "output_type": "execute_result",
          "data": {
            "text/html": [
              "<div>\n",
              "<style scoped>\n",
              "    .dataframe tbody tr th:only-of-type {\n",
              "        vertical-align: middle;\n",
              "    }\n",
              "\n",
              "    .dataframe tbody tr th {\n",
              "        vertical-align: top;\n",
              "    }\n",
              "\n",
              "    .dataframe thead th {\n",
              "        text-align: right;\n",
              "    }\n",
              "</style>\n",
              "<table border=\"1\" class=\"dataframe\">\n",
              "  <thead>\n",
              "    <tr style=\"text-align: right;\">\n",
              "      <th></th>\n",
              "      <th>ds</th>\n",
              "      <th>trend</th>\n",
              "      <th>yhat_lower</th>\n",
              "      <th>yhat_upper</th>\n",
              "      <th>trend_lower</th>\n",
              "      <th>trend_upper</th>\n",
              "      <th>additive_terms</th>\n",
              "      <th>additive_terms_lower</th>\n",
              "      <th>additive_terms_upper</th>\n",
              "      <th>weekly</th>\n",
              "      <th>weekly_lower</th>\n",
              "      <th>weekly_upper</th>\n",
              "      <th>yearly</th>\n",
              "      <th>yearly_lower</th>\n",
              "      <th>yearly_upper</th>\n",
              "      <th>multiplicative_terms</th>\n",
              "      <th>multiplicative_terms_lower</th>\n",
              "      <th>multiplicative_terms_upper</th>\n",
              "      <th>yhat</th>\n",
              "    </tr>\n",
              "  </thead>\n",
              "  <tbody>\n",
              "    <tr>\n",
              "      <th>0</th>\n",
              "      <td>2006-12-16</td>\n",
              "      <td>1.234471</td>\n",
              "      <td>1.381073</td>\n",
              "      <td>2.136650</td>\n",
              "      <td>1.234471</td>\n",
              "      <td>1.234471</td>\n",
              "      <td>0.520846</td>\n",
              "      <td>0.520846</td>\n",
              "      <td>0.520846</td>\n",
              "      <td>0.158174</td>\n",
              "      <td>0.158174</td>\n",
              "      <td>0.158174</td>\n",
              "      <td>0.362671</td>\n",
              "      <td>0.362671</td>\n",
              "      <td>0.362671</td>\n",
              "      <td>0.0</td>\n",
              "      <td>0.0</td>\n",
              "      <td>0.0</td>\n",
              "      <td>1.755317</td>\n",
              "    </tr>\n",
              "    <tr>\n",
              "      <th>1</th>\n",
              "      <td>2006-12-17</td>\n",
              "      <td>1.233609</td>\n",
              "      <td>1.369263</td>\n",
              "      <td>2.089680</td>\n",
              "      <td>1.233609</td>\n",
              "      <td>1.233609</td>\n",
              "      <td>0.495576</td>\n",
              "      <td>0.495576</td>\n",
              "      <td>0.495576</td>\n",
              "      <td>0.124488</td>\n",
              "      <td>0.124488</td>\n",
              "      <td>0.124488</td>\n",
              "      <td>0.371089</td>\n",
              "      <td>0.371089</td>\n",
              "      <td>0.371089</td>\n",
              "      <td>0.0</td>\n",
              "      <td>0.0</td>\n",
              "      <td>0.0</td>\n",
              "      <td>1.729185</td>\n",
              "    </tr>\n",
              "    <tr>\n",
              "      <th>2</th>\n",
              "      <td>2006-12-18</td>\n",
              "      <td>1.232747</td>\n",
              "      <td>1.154381</td>\n",
              "      <td>1.885692</td>\n",
              "      <td>1.232747</td>\n",
              "      <td>1.232747</td>\n",
              "      <td>0.286956</td>\n",
              "      <td>0.286956</td>\n",
              "      <td>0.286956</td>\n",
              "      <td>-0.092324</td>\n",
              "      <td>-0.092324</td>\n",
              "      <td>-0.092324</td>\n",
              "      <td>0.379280</td>\n",
              "      <td>0.379280</td>\n",
              "      <td>0.379280</td>\n",
              "      <td>0.0</td>\n",
              "      <td>0.0</td>\n",
              "      <td>0.0</td>\n",
              "      <td>1.519703</td>\n",
              "    </tr>\n",
              "    <tr>\n",
              "      <th>3</th>\n",
              "      <td>2006-12-19</td>\n",
              "      <td>1.231885</td>\n",
              "      <td>1.233627</td>\n",
              "      <td>1.946648</td>\n",
              "      <td>1.231885</td>\n",
              "      <td>1.231885</td>\n",
              "      <td>0.364323</td>\n",
              "      <td>0.364323</td>\n",
              "      <td>0.364323</td>\n",
              "      <td>-0.022686</td>\n",
              "      <td>-0.022686</td>\n",
              "      <td>-0.022686</td>\n",
              "      <td>0.387009</td>\n",
              "      <td>0.387009</td>\n",
              "      <td>0.387009</td>\n",
              "      <td>0.0</td>\n",
              "      <td>0.0</td>\n",
              "      <td>0.0</td>\n",
              "      <td>1.596209</td>\n",
              "    </tr>\n",
              "    <tr>\n",
              "      <th>4</th>\n",
              "      <td>2006-12-20</td>\n",
              "      <td>1.231023</td>\n",
              "      <td>1.233661</td>\n",
              "      <td>1.991428</td>\n",
              "      <td>1.231023</td>\n",
              "      <td>1.231023</td>\n",
              "      <td>0.384218</td>\n",
              "      <td>0.384218</td>\n",
              "      <td>0.384218</td>\n",
              "      <td>-0.009827</td>\n",
              "      <td>-0.009827</td>\n",
              "      <td>-0.009827</td>\n",
              "      <td>0.394045</td>\n",
              "      <td>0.394045</td>\n",
              "      <td>0.394045</td>\n",
              "      <td>0.0</td>\n",
              "      <td>0.0</td>\n",
              "      <td>0.0</td>\n",
              "      <td>1.615241</td>\n",
              "    </tr>\n",
              "    <tr>\n",
              "      <th>5</th>\n",
              "      <td>2006-12-21</td>\n",
              "      <td>1.230161</td>\n",
              "      <td>1.156041</td>\n",
              "      <td>1.898251</td>\n",
              "      <td>1.230161</td>\n",
              "      <td>1.230161</td>\n",
              "      <td>0.290887</td>\n",
              "      <td>0.290887</td>\n",
              "      <td>0.290887</td>\n",
              "      <td>-0.109284</td>\n",
              "      <td>-0.109284</td>\n",
              "      <td>-0.109284</td>\n",
              "      <td>0.400171</td>\n",
              "      <td>0.400171</td>\n",
              "      <td>0.400171</td>\n",
              "      <td>0.0</td>\n",
              "      <td>0.0</td>\n",
              "      <td>0.0</td>\n",
              "      <td>1.521048</td>\n",
              "    </tr>\n",
              "    <tr>\n",
              "      <th>6</th>\n",
              "      <td>2006-12-22</td>\n",
              "      <td>1.229299</td>\n",
              "      <td>1.250027</td>\n",
              "      <td>1.985754</td>\n",
              "      <td>1.229299</td>\n",
              "      <td>1.229299</td>\n",
              "      <td>0.356651</td>\n",
              "      <td>0.356651</td>\n",
              "      <td>0.356651</td>\n",
              "      <td>-0.048541</td>\n",
              "      <td>-0.048541</td>\n",
              "      <td>-0.048541</td>\n",
              "      <td>0.405193</td>\n",
              "      <td>0.405193</td>\n",
              "      <td>0.405193</td>\n",
              "      <td>0.0</td>\n",
              "      <td>0.0</td>\n",
              "      <td>0.0</td>\n",
              "      <td>1.585951</td>\n",
              "    </tr>\n",
              "    <tr>\n",
              "      <th>7</th>\n",
              "      <td>2006-12-23</td>\n",
              "      <td>1.228437</td>\n",
              "      <td>1.428858</td>\n",
              "      <td>2.173294</td>\n",
              "      <td>1.228437</td>\n",
              "      <td>1.228437</td>\n",
              "      <td>0.567117</td>\n",
              "      <td>0.567117</td>\n",
              "      <td>0.567117</td>\n",
              "      <td>0.158174</td>\n",
              "      <td>0.158174</td>\n",
              "      <td>0.158174</td>\n",
              "      <td>0.408943</td>\n",
              "      <td>0.408943</td>\n",
              "      <td>0.408943</td>\n",
              "      <td>0.0</td>\n",
              "      <td>0.0</td>\n",
              "      <td>0.0</td>\n",
              "      <td>1.795554</td>\n",
              "    </tr>\n",
              "    <tr>\n",
              "      <th>8</th>\n",
              "      <td>2006-12-24</td>\n",
              "      <td>1.227575</td>\n",
              "      <td>1.414101</td>\n",
              "      <td>2.104908</td>\n",
              "      <td>1.227575</td>\n",
              "      <td>1.227575</td>\n",
              "      <td>0.535774</td>\n",
              "      <td>0.535774</td>\n",
              "      <td>0.535774</td>\n",
              "      <td>0.124488</td>\n",
              "      <td>0.124488</td>\n",
              "      <td>0.124488</td>\n",
              "      <td>0.411287</td>\n",
              "      <td>0.411287</td>\n",
              "      <td>0.411287</td>\n",
              "      <td>0.0</td>\n",
              "      <td>0.0</td>\n",
              "      <td>0.0</td>\n",
              "      <td>1.763349</td>\n",
              "    </tr>\n",
              "    <tr>\n",
              "      <th>9</th>\n",
              "      <td>2006-12-25</td>\n",
              "      <td>1.226713</td>\n",
              "      <td>1.159872</td>\n",
              "      <td>1.955088</td>\n",
              "      <td>1.226713</td>\n",
              "      <td>1.226713</td>\n",
              "      <td>0.319803</td>\n",
              "      <td>0.319803</td>\n",
              "      <td>0.319803</td>\n",
              "      <td>-0.092324</td>\n",
              "      <td>-0.092324</td>\n",
              "      <td>-0.092324</td>\n",
              "      <td>0.412127</td>\n",
              "      <td>0.412127</td>\n",
              "      <td>0.412127</td>\n",
              "      <td>0.0</td>\n",
              "      <td>0.0</td>\n",
              "      <td>0.0</td>\n",
              "      <td>1.546516</td>\n",
              "    </tr>\n",
              "    <tr>\n",
              "      <th>10</th>\n",
              "      <td>2006-12-26</td>\n",
              "      <td>1.225851</td>\n",
              "      <td>1.256429</td>\n",
              "      <td>1.973732</td>\n",
              "      <td>1.225851</td>\n",
              "      <td>1.225851</td>\n",
              "      <td>0.388723</td>\n",
              "      <td>0.388723</td>\n",
              "      <td>0.388723</td>\n",
              "      <td>-0.022686</td>\n",
              "      <td>-0.022686</td>\n",
              "      <td>-0.022686</td>\n",
              "      <td>0.411409</td>\n",
              "      <td>0.411409</td>\n",
              "      <td>0.411409</td>\n",
              "      <td>0.0</td>\n",
              "      <td>0.0</td>\n",
              "      <td>0.0</td>\n",
              "      <td>1.614574</td>\n",
              "    </tr>\n",
              "    <tr>\n",
              "      <th>11</th>\n",
              "      <td>2006-12-27</td>\n",
              "      <td>1.224989</td>\n",
              "      <td>1.219338</td>\n",
              "      <td>1.999651</td>\n",
              "      <td>1.224989</td>\n",
              "      <td>1.224989</td>\n",
              "      <td>0.399291</td>\n",
              "      <td>0.399291</td>\n",
              "      <td>0.399291</td>\n",
              "      <td>-0.009827</td>\n",
              "      <td>-0.009827</td>\n",
              "      <td>-0.009827</td>\n",
              "      <td>0.409119</td>\n",
              "      <td>0.409119</td>\n",
              "      <td>0.409119</td>\n",
              "      <td>0.0</td>\n",
              "      <td>0.0</td>\n",
              "      <td>0.0</td>\n",
              "      <td>1.624281</td>\n",
              "    </tr>\n",
              "    <tr>\n",
              "      <th>12</th>\n",
              "      <td>2006-12-28</td>\n",
              "      <td>1.224127</td>\n",
              "      <td>1.150473</td>\n",
              "      <td>1.916654</td>\n",
              "      <td>1.224127</td>\n",
              "      <td>1.224127</td>\n",
              "      <td>0.296005</td>\n",
              "      <td>0.296005</td>\n",
              "      <td>0.296005</td>\n",
              "      <td>-0.109284</td>\n",
              "      <td>-0.109284</td>\n",
              "      <td>-0.109284</td>\n",
              "      <td>0.405289</td>\n",
              "      <td>0.405289</td>\n",
              "      <td>0.405289</td>\n",
              "      <td>0.0</td>\n",
              "      <td>0.0</td>\n",
              "      <td>0.0</td>\n",
              "      <td>1.520132</td>\n",
              "    </tr>\n",
              "    <tr>\n",
              "      <th>13</th>\n",
              "      <td>2006-12-29</td>\n",
              "      <td>1.223265</td>\n",
              "      <td>1.188964</td>\n",
              "      <td>1.926622</td>\n",
              "      <td>1.223265</td>\n",
              "      <td>1.223265</td>\n",
              "      <td>0.351456</td>\n",
              "      <td>0.351456</td>\n",
              "      <td>0.351456</td>\n",
              "      <td>-0.048541</td>\n",
              "      <td>-0.048541</td>\n",
              "      <td>-0.048541</td>\n",
              "      <td>0.399997</td>\n",
              "      <td>0.399997</td>\n",
              "      <td>0.399997</td>\n",
              "      <td>0.0</td>\n",
              "      <td>0.0</td>\n",
              "      <td>0.0</td>\n",
              "      <td>1.574721</td>\n",
              "    </tr>\n",
              "    <tr>\n",
              "      <th>14</th>\n",
              "      <td>2006-12-30</td>\n",
              "      <td>1.222403</td>\n",
              "      <td>1.404130</td>\n",
              "      <td>2.149357</td>\n",
              "      <td>1.222403</td>\n",
              "      <td>1.222403</td>\n",
              "      <td>0.551537</td>\n",
              "      <td>0.551537</td>\n",
              "      <td>0.551537</td>\n",
              "      <td>0.158174</td>\n",
              "      <td>0.158174</td>\n",
              "      <td>0.158174</td>\n",
              "      <td>0.393363</td>\n",
              "      <td>0.393363</td>\n",
              "      <td>0.393363</td>\n",
              "      <td>0.0</td>\n",
              "      <td>0.0</td>\n",
              "      <td>0.0</td>\n",
              "      <td>1.773940</td>\n",
              "    </tr>\n",
              "  </tbody>\n",
              "</table>\n",
              "</div>"
            ],
            "text/plain": [
              "           ds     trend  ...  multiplicative_terms_upper      yhat\n",
              "0  2006-12-16  1.234471  ...                         0.0  1.755317\n",
              "1  2006-12-17  1.233609  ...                         0.0  1.729185\n",
              "2  2006-12-18  1.232747  ...                         0.0  1.519703\n",
              "3  2006-12-19  1.231885  ...                         0.0  1.596209\n",
              "4  2006-12-20  1.231023  ...                         0.0  1.615241\n",
              "5  2006-12-21  1.230161  ...                         0.0  1.521048\n",
              "6  2006-12-22  1.229299  ...                         0.0  1.585951\n",
              "7  2006-12-23  1.228437  ...                         0.0  1.795554\n",
              "8  2006-12-24  1.227575  ...                         0.0  1.763349\n",
              "9  2006-12-25  1.226713  ...                         0.0  1.546516\n",
              "10 2006-12-26  1.225851  ...                         0.0  1.614574\n",
              "11 2006-12-27  1.224989  ...                         0.0  1.624281\n",
              "12 2006-12-28  1.224127  ...                         0.0  1.520132\n",
              "13 2006-12-29  1.223265  ...                         0.0  1.574721\n",
              "14 2006-12-30  1.222403  ...                         0.0  1.773940\n",
              "\n",
              "[15 rows x 19 columns]"
            ]
          },
          "metadata": {
            "tags": []
          },
          "execution_count": 112
        }
      ]
    },
    {
      "cell_type": "code",
      "metadata": {
        "id": "gsgCHKfUN_65",
        "outputId": "99063da0-cd25-4a50-9db1-5d778805d74a",
        "colab": {
          "base_uri": "https://localhost:8080/",
          "height": 419
        }
      },
      "source": [
        "forecast[['ds', 'yhat', 'yhat_lower', 'yhat_upper', 'trend', 'trend_lower', 'trend_upper']]\n",
        "#yhat is the prediction while yhat_lower and yhat_upper are the upper and lower boundaries"
      ],
      "execution_count": 113,
      "outputs": [
        {
          "output_type": "execute_result",
          "data": {
            "text/html": [
              "<div>\n",
              "<style scoped>\n",
              "    .dataframe tbody tr th:only-of-type {\n",
              "        vertical-align: middle;\n",
              "    }\n",
              "\n",
              "    .dataframe tbody tr th {\n",
              "        vertical-align: top;\n",
              "    }\n",
              "\n",
              "    .dataframe thead th {\n",
              "        text-align: right;\n",
              "    }\n",
              "</style>\n",
              "<table border=\"1\" class=\"dataframe\">\n",
              "  <thead>\n",
              "    <tr style=\"text-align: right;\">\n",
              "      <th></th>\n",
              "      <th>ds</th>\n",
              "      <th>yhat</th>\n",
              "      <th>yhat_lower</th>\n",
              "      <th>yhat_upper</th>\n",
              "      <th>trend</th>\n",
              "      <th>trend_lower</th>\n",
              "      <th>trend_upper</th>\n",
              "    </tr>\n",
              "  </thead>\n",
              "  <tbody>\n",
              "    <tr>\n",
              "      <th>0</th>\n",
              "      <td>2006-12-16</td>\n",
              "      <td>1.755317</td>\n",
              "      <td>1.381073</td>\n",
              "      <td>2.136650</td>\n",
              "      <td>1.234471</td>\n",
              "      <td>1.234471</td>\n",
              "      <td>1.234471</td>\n",
              "    </tr>\n",
              "    <tr>\n",
              "      <th>1</th>\n",
              "      <td>2006-12-17</td>\n",
              "      <td>1.729185</td>\n",
              "      <td>1.369263</td>\n",
              "      <td>2.089680</td>\n",
              "      <td>1.233609</td>\n",
              "      <td>1.233609</td>\n",
              "      <td>1.233609</td>\n",
              "    </tr>\n",
              "    <tr>\n",
              "      <th>2</th>\n",
              "      <td>2006-12-18</td>\n",
              "      <td>1.519703</td>\n",
              "      <td>1.154381</td>\n",
              "      <td>1.885692</td>\n",
              "      <td>1.232747</td>\n",
              "      <td>1.232747</td>\n",
              "      <td>1.232747</td>\n",
              "    </tr>\n",
              "    <tr>\n",
              "      <th>3</th>\n",
              "      <td>2006-12-19</td>\n",
              "      <td>1.596209</td>\n",
              "      <td>1.233627</td>\n",
              "      <td>1.946648</td>\n",
              "      <td>1.231885</td>\n",
              "      <td>1.231885</td>\n",
              "      <td>1.231885</td>\n",
              "    </tr>\n",
              "    <tr>\n",
              "      <th>4</th>\n",
              "      <td>2006-12-20</td>\n",
              "      <td>1.615241</td>\n",
              "      <td>1.233661</td>\n",
              "      <td>1.991428</td>\n",
              "      <td>1.231023</td>\n",
              "      <td>1.231023</td>\n",
              "      <td>1.231023</td>\n",
              "    </tr>\n",
              "    <tr>\n",
              "      <th>...</th>\n",
              "      <td>...</td>\n",
              "      <td>...</td>\n",
              "      <td>...</td>\n",
              "      <td>...</td>\n",
              "      <td>...</td>\n",
              "      <td>...</td>\n",
              "      <td>...</td>\n",
              "    </tr>\n",
              "    <tr>\n",
              "      <th>1457</th>\n",
              "      <td>2010-12-12</td>\n",
              "      <td>1.556062</td>\n",
              "      <td>1.169452</td>\n",
              "      <td>1.906002</td>\n",
              "      <td>1.100232</td>\n",
              "      <td>1.100154</td>\n",
              "      <td>1.100267</td>\n",
              "    </tr>\n",
              "    <tr>\n",
              "      <th>1458</th>\n",
              "      <td>2010-12-13</td>\n",
              "      <td>1.346344</td>\n",
              "      <td>0.952655</td>\n",
              "      <td>1.708847</td>\n",
              "      <td>1.100271</td>\n",
              "      <td>1.100171</td>\n",
              "      <td>1.100322</td>\n",
              "    </tr>\n",
              "    <tr>\n",
              "      <th>1459</th>\n",
              "      <td>2010-12-14</td>\n",
              "      <td>1.423728</td>\n",
              "      <td>1.057450</td>\n",
              "      <td>1.802614</td>\n",
              "      <td>1.100310</td>\n",
              "      <td>1.100186</td>\n",
              "      <td>1.100377</td>\n",
              "    </tr>\n",
              "    <tr>\n",
              "      <th>1460</th>\n",
              "      <td>2010-12-15</td>\n",
              "      <td>1.444789</td>\n",
              "      <td>1.089415</td>\n",
              "      <td>1.842395</td>\n",
              "      <td>1.100350</td>\n",
              "      <td>1.100199</td>\n",
              "      <td>1.100449</td>\n",
              "    </tr>\n",
              "    <tr>\n",
              "      <th>1461</th>\n",
              "      <td>2010-12-16</td>\n",
              "      <td>1.353777</td>\n",
              "      <td>0.972349</td>\n",
              "      <td>1.696953</td>\n",
              "      <td>1.100389</td>\n",
              "      <td>1.100228</td>\n",
              "      <td>1.100506</td>\n",
              "    </tr>\n",
              "  </tbody>\n",
              "</table>\n",
              "<p>1462 rows × 7 columns</p>\n",
              "</div>"
            ],
            "text/plain": [
              "             ds      yhat  yhat_lower  ...     trend  trend_lower  trend_upper\n",
              "0    2006-12-16  1.755317    1.381073  ...  1.234471     1.234471     1.234471\n",
              "1    2006-12-17  1.729185    1.369263  ...  1.233609     1.233609     1.233609\n",
              "2    2006-12-18  1.519703    1.154381  ...  1.232747     1.232747     1.232747\n",
              "3    2006-12-19  1.596209    1.233627  ...  1.231885     1.231885     1.231885\n",
              "4    2006-12-20  1.615241    1.233661  ...  1.231023     1.231023     1.231023\n",
              "...         ...       ...         ...  ...       ...          ...          ...\n",
              "1457 2010-12-12  1.556062    1.169452  ...  1.100232     1.100154     1.100267\n",
              "1458 2010-12-13  1.346344    0.952655  ...  1.100271     1.100171     1.100322\n",
              "1459 2010-12-14  1.423728    1.057450  ...  1.100310     1.100186     1.100377\n",
              "1460 2010-12-15  1.444789    1.089415  ...  1.100350     1.100199     1.100449\n",
              "1461 2010-12-16  1.353777    0.972349  ...  1.100389     1.100228     1.100506\n",
              "\n",
              "[1462 rows x 7 columns]"
            ]
          },
          "metadata": {
            "tags": []
          },
          "execution_count": 113
        }
      ]
    },
    {
      "cell_type": "code",
      "metadata": {
        "id": "dADadjSQPMQM",
        "outputId": "f4ce789f-f051-401e-a7db-176fb35d115f",
        "colab": {
          "base_uri": "https://localhost:8080/",
          "height": 441
        }
      },
      "source": [
        "model_2.plot(forecast2)\n",
        "plt.show()"
      ],
      "execution_count": 114,
      "outputs": [
        {
          "output_type": "display_data",
          "data": {
            "image/png": "[encoded data removed]",
            "text/plain": [
              "<Figure size 720x432 with 1 Axes>"
            ]
          },
          "metadata": {
            "tags": []
          }
        }
      ]
    },
    {
      "cell_type": "code",
      "metadata": {
        "id": "A278-h_yQAmh"
      },
      "source": [
        ""
      ],
      "execution_count": null,
      "outputs": []
    }
  ]
}